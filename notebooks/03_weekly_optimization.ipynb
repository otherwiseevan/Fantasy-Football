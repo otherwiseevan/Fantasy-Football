{
 "cells": [
  {
   "cell_type": "code",
   "execution_count": 4,
   "id": "536a32be",
   "metadata": {},
   "outputs": [
    {
     "name": "stdout",
     "output_type": "stream",
     "text": [
      "PHASE 3: WEEKLY LINEUP OPTIMIZATION\n",
      "==================================================\n",
      "Dataset loaded: 6,670 records\n",
      "Positions: ['DEF', 'K', 'QB', 'RB', 'TE', 'WR']\n",
      "Weeks: 22 weeks\n",
      "\n",
      "Your league lineup requirements: {'QB': 1, 'RB': 2, 'WR': 2, 'TE': 1, 'FLEX1': 1, 'FLEX2': 1, 'K': 1, 'DEF': 1}\n",
      "Total starters: 10\n",
      "FLEX eligible positions: ['RB', 'WR', 'TE']\n",
      "\n",
      "Possible lineup combinations:\n",
      "- Max RBs: 4 (2 RB + 2 FLEX)\n",
      "- Max WRs: 4 (2 WR + 2 FLEX)\n",
      "- Max TEs: 3 (1 TE + 2 FLEX)\n",
      "- Always: 1 QB, 1 K, 1 DEF\n"
     ]
    }
   ],
   "source": [
    "# Phase 3: Weekly Lineup Optimization Setup\n",
    "# Create this in a new notebook: 03_weekly_optimization.ipynb\n",
    "\n",
    "import pandas as pd\n",
    "import numpy as np\n",
    "import matplotlib.pyplot as plt\n",
    "import seaborn as sns\n",
    "from sklearn.ensemble import RandomForestRegressor, GradientBoostingRegressor\n",
    "from sklearn.preprocessing import StandardScaler\n",
    "from sklearn.model_selection import train_test_split\n",
    "from sklearn.metrics import mean_absolute_error, mean_squared_error\n",
    "from scipy.optimize import linprog\n",
    "import warnings\n",
    "warnings.filterwarnings('ignore')\n",
    "\n",
    "print(\"PHASE 3: WEEKLY LINEUP OPTIMIZATION\")\n",
    "print(\"=\" * 50)\n",
    "\n",
    "# Load the dataset\n",
    "df = pd.read_pickle('../data/fantasy_data_2023.pkl')\n",
    "\n",
    "# Create metadata\n",
    "metadata = {\n",
    "    'positions': sorted(df['position'].unique().tolist()),\n",
    "    'weeks_covered': sorted(df['week'].unique().tolist()),\n",
    "    'total_records': len(df),\n",
    "    'unique_players': df['player_display_name'].nunique()\n",
    "}\n",
    "\n",
    "print(f\"Dataset loaded: {df.shape[0]:,} records\")\n",
    "print(f\"Positions: {metadata['positions']}\")\n",
    "print(f\"Weeks: {len(metadata['weeks_covered'])} weeks\")\n",
    "\n",
    "# Your league lineup requirements (10 starters)\n",
    "lineup_requirements = {\n",
    "    'QB': 1,\n",
    "    'RB': 2,\n",
    "    'WR': 2,\n",
    "    'TE': 1,\n",
    "    'FLEX1': 1,  # RB/WR/TE\n",
    "    'FLEX2': 1,  # RB/WR/TE\n",
    "    'K': 1,\n",
    "    'DEF': 1\n",
    "}\n",
    "\n",
    "print(f\"\\nYour league lineup requirements: {lineup_requirements}\")\n",
    "print(f\"Total starters: {sum(lineup_requirements.values())}\")\n",
    "\n",
    "# Define flex eligibility\n",
    "flex_eligible_positions = ['RB', 'WR', 'TE']\n",
    "print(f\"FLEX eligible positions: {flex_eligible_positions}\")\n",
    "\n",
    "# potentially start:\n",
    "print(f\"\\nPossible lineup combinations:\")\n",
    "print(f\"- Max RBs: 4 (2 RB + 2 FLEX)\")\n",
    "print(f\"- Max WRs: 4 (2 WR + 2 FLEX)\")  \n",
    "print(f\"- Max TEs: 3 (1 TE + 2 FLEX)\")\n",
    "print(f\"- Always: 1 QB, 1 K, 1 DEF\")\n"
   ]
  },
  {
   "cell_type": "code",
   "execution_count": null,
   "id": "be49c126",
   "metadata": {},
   "outputs": [],
   "source": []
  }
 ],
 "metadata": {
  "kernelspec": {
   "display_name": "fantasyfootball-env",
   "language": "python",
   "name": "python3"
  },
  "language_info": {
   "codemirror_mode": {
    "name": "ipython",
    "version": 3
   },
   "file_extension": ".py",
   "mimetype": "text/x-python",
   "name": "python",
   "nbconvert_exporter": "python",
   "pygments_lexer": "ipython3",
   "version": "3.10.12"
  }
 },
 "nbformat": 4,
 "nbformat_minor": 5
}
